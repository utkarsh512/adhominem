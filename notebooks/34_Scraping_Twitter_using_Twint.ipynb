{
  "nbformat": 4,
  "nbformat_minor": 0,
  "metadata": {
    "colab": {
      "name": "34-Scraping-Twitter-using-Twint.ipynb",
      "private_outputs": true,
      "provenance": [],
      "authorship_tag": "ABX9TyMl2WQNS1e4CuTv1EMFNOto",
      "include_colab_link": true
    },
    "kernelspec": {
      "name": "python3",
      "display_name": "Python 3"
    },
    "language_info": {
      "name": "python"
    }
  },
  "cells": [
    {
      "cell_type": "markdown",
      "metadata": {
        "id": "view-in-github",
        "colab_type": "text"
      },
      "source": [
        "<a href=\"https://colab.research.google.com/github/utkarsh512/adhominem/blob/main/notebooks/34_Scraping_Twitter_using_Twint.ipynb\" target=\"_parent\"><img src=\"https://colab.research.google.com/assets/colab-badge.svg\" alt=\"Open In Colab\"/></a>"
      ]
    },
    {
      "cell_type": "code",
      "source": [
        "from google.colab import drive\n",
        "drive.mount('/content/gdrive', force_remount=True)"
      ],
      "metadata": {
        "id": "XmpupKwp0nJj"
      },
      "execution_count": null,
      "outputs": []
    },
    {
      "cell_type": "code",
      "source": [
        "# don't install twint as `pip install twint` instead use this\n",
        "!pip install --user --upgrade git+https://github.com/twintproject/twint.git@origin/master#egg=twint\n",
        "\n",
        "# installing nest_asyncio to use twint in IPython environment (notebooks)\n",
        "!pip install nest_asyncio \n",
        "\n",
        "# you might've to restart the session, in that case,\n",
        "# don't execute this block again!"
      ],
      "metadata": {
        "id": "qrxmz_2lhn3s"
      },
      "execution_count": null,
      "outputs": []
    },
    {
      "cell_type": "code",
      "source": [
        "import twint as tw    # for scraping tweets\n",
        "import nest_asyncio   # to use `twint` in notebooks\n",
        "import nltk           # for pre-processing tweets\n",
        "import re             # for pre-processing tweets\n",
        "\n",
        "nltk.download('punkt') # For tokenizers\n",
        "from nltk.tokenize import TweetTokenizer\n",
        "\n",
        "tknz = TweetTokenizer()\n",
        "nest_asyncio.apply()  # without this, `twint` won't work on Notebook"
      ],
      "metadata": {
        "id": "1GIUYbUTh1gZ"
      },
      "execution_count": null,
      "outputs": []
    },
    {
      "cell_type": "code",
      "source": [
        "# helper functions\n",
        "\n",
        "# extract column names from twint data dump\n",
        "def column_names():\n",
        "    return tw.output.panda.Tweets_df.columns\n",
        "\n",
        "# convert `twint` data dump to dataframe\n",
        "def twint_to_pd(columns):\n",
        "    return tw.output.panda.Tweets_df[columns]\n",
        "\n",
        "# pre-processing tweets\n",
        "def cleanText(text):\n",
        "    text = text.lower()\n",
        "    text = re.sub(r\"http\\S+\", \"\", text)\n",
        "    text = re.sub(r\"www\\S+\", \"\", text)\n",
        "    text = re.sub(\"-\", \" \", text)\n",
        "    text = re.sub(\"\\s+\", \" \", text)\n",
        "    text = re.sub(\"\\u2018\", \"X\", text) \n",
        "    text = re.sub(\"\\u2019\", \"X\", text) \n",
        "    text = re.sub(\"\\'\", \"X\", text) \n",
        "    wordTokens_ = tknz.tokenize(text)\n",
        "    wordTokens = list()\n",
        "    for x in wordTokens_:\n",
        "        x = ''.join([v for v in x if v.isalnum() or v == ' '])\n",
        "        if len(x) > 0 and x != 'X':\n",
        "            x = x.replace('X', '\\'')\n",
        "            wordTokens.append(x)\n",
        "    return ' '.join(wordTokens)"
      ],
      "metadata": {
        "id": "l4e5TzOQ3oIR"
      },
      "execution_count": null,
      "outputs": []
    },
    {
      "cell_type": "code",
      "source": [
        "# configure search requirements\n",
        "\n",
        "c = tw.Config()      # twint.Config object\n",
        "\n",
        "# customize your search here\n",
        "# TODO: add more parameter after!!\n",
        "\n",
        "c.Search= \"@NPR\"  \n",
        "c.Lang= \"en\"         \n",
        "c.Pandas= True       \n",
        "c.Limit= 10000        "
      ],
      "metadata": {
        "id": "Io8bldEbjZc9"
      },
      "execution_count": null,
      "outputs": []
    },
    {
      "cell_type": "code",
      "source": [
        "tw.run.Search(c)"
      ],
      "metadata": {
        "id": "jaEhyUJLmLqa"
      },
      "execution_count": null,
      "outputs": []
    },
    {
      "cell_type": "code",
      "source": [
        "# for now, only collect the tweets\n",
        "df = twint_to_pd([\"tweet\"])"
      ],
      "metadata": {
        "id": "7QlsNVuQj7Ct"
      },
      "execution_count": null,
      "outputs": []
    },
    {
      "cell_type": "code",
      "source": [
        "df"
      ],
      "metadata": {
        "id": "2B0LemIPmC-i"
      },
      "execution_count": null,
      "outputs": []
    },
    {
      "cell_type": "code",
      "source": [
        "# pre-processing the tweets\n",
        "\n",
        "df['pptweet'] = df['tweet'].apply(cleanText)"
      ],
      "metadata": {
        "id": "noB3Pa76464d"
      },
      "execution_count": null,
      "outputs": []
    },
    {
      "cell_type": "code",
      "source": [
        "df"
      ],
      "metadata": {
        "id": "5uiPcZfe5VQ2"
      },
      "execution_count": null,
      "outputs": []
    },
    {
      "cell_type": "code",
      "source": [
        "df.to_csv('/content/gdrive/MyDrive/DL/Twitter/npr.csv', index=False)"
      ],
      "metadata": {
        "id": "dGOnUPSCx8GV"
      },
      "execution_count": null,
      "outputs": []
    },
    {
      "cell_type": "code",
      "source": [
        ""
      ],
      "metadata": {
        "id": "-u5GrAgQ1JqC"
      },
      "execution_count": null,
      "outputs": []
    }
  ]
}